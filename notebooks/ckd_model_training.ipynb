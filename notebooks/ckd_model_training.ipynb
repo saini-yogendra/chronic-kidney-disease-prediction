{
 "cells": [
  {
   "cell_type": "code",
   "execution_count": 1,
   "id": "acb4d65f",
   "metadata": {},
   "outputs": [],
   "source": [
    "import pandas as pd\n",
    "import numpy as np\n",
    "from sklearn.model_selection import train_test_split\n",
    "from sklearn.ensemble import RandomForestClassifier\n",
    "from sklearn.preprocessing import LabelEncoder\n",
    "from sklearn.metrics import classification_report, accuracy_score\n",
    "import joblib"
   ]
  },
  {
   "cell_type": "code",
   "execution_count": 2,
   "id": "c5f467c0",
   "metadata": {},
   "outputs": [
    {
     "name": "stdout",
     "output_type": "stream",
     "text": [
      "Cleaned dataset shape: (200, 29)\n"
     ]
    }
   ],
   "source": [
    "df = pd.read_csv(r\"C:\\Users\\Tejas\\OneDrive\\Desktop\\chronic kidney disease\\data\\ckd-dataset-v2.csv\")\n",
    "df_cleaned = df.iloc[2:].reset_index(drop=True)\n",
    "df_cleaned.dropna(axis=1, how=\"all\", inplace=True)\n",
    "print(\"Cleaned dataset shape:\", df_cleaned.shape)"
   ]
  },
  {
   "cell_type": "code",
   "execution_count": 3,
   "id": "05ba69de",
   "metadata": {},
   "outputs": [],
   "source": [
    "df_cleaned.columns = df_cleaned.columns.str.strip().str.lower().str.replace(\" \", \"_\")\n"
   ]
  },
  {
   "cell_type": "code",
   "execution_count": 4,
   "id": "5bdb0549",
   "metadata": {},
   "outputs": [],
   "source": [
    "def convert_to_numeric(val):\n",
    "    try:\n",
    "        # Handle range values (e.g., \"1.019 - 1.021\")\n",
    "        if '-' in val:\n",
    "            low, high = val.split('-')\n",
    "            return (float(low.strip()) + float(high.strip())) / 2\n",
    "        # Handle threshold values (e.g., \"≥ 227.944\")\n",
    "        elif '≥' in val:\n",
    "            return float(val.split('≥')[-1].strip())\n",
    "        # Handle threshold values (e.g., \"< 0\")\n",
    "        elif '<' in val:\n",
    "            return float(val.split('<')[-1].strip()) - 0.1\n",
    "        # Handle simple numbers\n",
    "        else:\n",
    "            return float(val)\n",
    "    except:\n",
    "        return np.nan"
   ]
  },
  {
   "cell_type": "code",
   "execution_count": 5,
   "id": "33e79ac4",
   "metadata": {},
   "outputs": [],
   "source": [
    "numeric_cols = ['sg', 'al', 'su', 'bgr', 'bu', 'sod', 'sc', 'pot', 'hemo', \n",
    "                'pcv', 'rbcc', 'wbcc', 'grf', 'age', 'bp_(diastolic)']\n",
    "\n",
    "# Convert all columns to numeric\n",
    "for col in numeric_cols:\n",
    "    df_cleaned[col] = df_cleaned[col].apply(convert_to_numeric)\n",
    "    # Fill missing values with column median\n",
    "    median_val = df_cleaned[col].median()\n",
    "    df_cleaned[col] = df_cleaned[col].fillna(median_val)\n",
    "\n",
    "# Convert target to binary\n",
    "df_cleaned['affected'] = df_cleaned['affected'].astype(int)\n",
    "\n",
    "# Handle categorical features\n",
    "categorical_cols = ['rbc', 'pc', 'pcc', 'ba', 'htn', 'dm', 'cad', \n",
    "                    'appet', 'pe', 'ane', 'bp_limit', 'stage']\n"
   ]
  },
  {
   "cell_type": "code",
   "execution_count": 6,
   "id": "6d28c2b5",
   "metadata": {},
   "outputs": [],
   "source": [
    "label_encoders = {}\n",
    "for col in categorical_cols:\n",
    "    le = LabelEncoder()\n",
    "    df_cleaned[col] = le.fit_transform(df_cleaned[col])\n",
    "    label_encoders[col] = le\n",
    "\n",
    "# Separate features and target\n",
    "X = df_cleaned.drop(columns=['class', 'affected'])\n",
    "y = df_cleaned['affected']\n",
    "\n",
    "# Train/test split\n",
    "X_train, X_test, y_train, y_test = train_test_split(\n",
    "    X, y, test_size=0.2, random_state=42, stratify=y\n",
    ")"
   ]
  },
  {
   "cell_type": "code",
   "execution_count": 7,
   "id": "43110858",
   "metadata": {},
   "outputs": [
    {
     "name": "stdout",
     "output_type": "stream",
     "text": [
      "Accuracy: 0.97\n",
      "              precision    recall  f1-score   support\n",
      "\n",
      "           0       1.00      0.93      0.96        14\n",
      "           1       0.96      1.00      0.98        26\n",
      "\n",
      "    accuracy                           0.97        40\n",
      "   macro avg       0.98      0.96      0.97        40\n",
      "weighted avg       0.98      0.97      0.97        40\n",
      "\n"
     ]
    }
   ],
   "source": [
    "model = RandomForestClassifier(\n",
    "    n_estimators=200,\n",
    "    max_depth=10,\n",
    "    min_samples_split=5,\n",
    "    class_weight='balanced',\n",
    "    random_state=42\n",
    ")\n",
    "model.fit(X_train, y_train)\n",
    "\n",
    "# Evaluate\n",
    "y_pred = model.predict(X_test)\n",
    "print(f\"Accuracy: {accuracy_score(y_test, y_pred):.2f}\")\n",
    "print(classification_report(y_test, y_pred))"
   ]
  },
  {
   "cell_type": "code",
   "execution_count": 8,
   "id": "ac2cee25",
   "metadata": {},
   "outputs": [
    {
     "name": "stdout",
     "output_type": "stream",
     "text": [
      "\n",
      "Top 10 features:\n",
      "hemo     0.208009\n",
      "stage    0.147630\n",
      "pcv      0.130460\n",
      "grf      0.112026\n",
      "sg       0.073784\n",
      "al       0.057638\n",
      "dm       0.054532\n",
      "htn      0.053938\n",
      "rbcc     0.050298\n",
      "bu       0.022442\n",
      "dtype: float64\n",
      "Model and artifacts saved successfully!\n"
     ]
    }
   ],
   "source": [
    "feat_importances = pd.Series(model.feature_importances_, index=X.columns)\n",
    "print(\"\\nTop 10 features:\")\n",
    "print(feat_importances.nlargest(10))\n",
    "\n",
    "# Save artifacts\n",
    "joblib.dump(model, \"ckd_model_v3.pkl\")\n",
    "joblib.dump(X.columns.tolist(), \"ckd_features_v3.pkl\")\n",
    "joblib.dump(label_encoders, \"ckd_label_encoders_v3.pkl\")\n",
    "\n",
    "print(\"Model and artifacts saved successfully!\")"
   ]
  },
  {
   "cell_type": "code",
   "execution_count": null,
   "id": "23752572",
   "metadata": {},
   "outputs": [],
   "source": []
  }
 ],
 "metadata": {
  "kernelspec": {
   "display_name": "Python 3",
   "language": "python",
   "name": "python3"
  },
  "language_info": {
   "codemirror_mode": {
    "name": "ipython",
    "version": 3
   },
   "file_extension": ".py",
   "mimetype": "text/x-python",
   "name": "python",
   "nbconvert_exporter": "python",
   "pygments_lexer": "ipython3",
   "version": "3.13.3"
  }
 },
 "nbformat": 4,
 "nbformat_minor": 5
}
